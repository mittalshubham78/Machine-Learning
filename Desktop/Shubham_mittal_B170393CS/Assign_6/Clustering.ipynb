{
 "cells": [
  {
   "cell_type": "markdown",
   "metadata": {},
   "source": [
    "**Loading Library**"
   ]
  },
  {
   "cell_type": "code",
   "execution_count": 1,
   "metadata": {},
   "outputs": [],
   "source": [
    "import numpy as np\n",
    "from sklearn.cluster import KMeans\n",
    "from sklearn import metrics\n",
    "from sklearn.preprocessing import Normalizer\n",
    "from sklearn.cluster import MiniBatchKMeans\n",
    "import matplotlib.pyplot as plt"
   ]
  },
  {
   "cell_type": "markdown",
   "metadata": {},
   "source": [
    "**Fetching Dataset**"
   ]
  },
  {
   "cell_type": "code",
   "execution_count": 2,
   "metadata": {},
   "outputs": [
    {
     "name": "stderr",
     "output_type": "stream",
     "text": [
      "Downloading 20news dataset. This may take a few minutes.\n",
      "Downloading dataset from https://ndownloader.figshare.com/files/5975967 (14 MB)\n"
     ]
    }
   ],
   "source": [
    "from sklearn.datasets import fetch_20newsgroups\n",
    "categories = ['comp.graphics', 'rec.autos','sci.space','alt.atheism','misc.forsale','rec.motorcycles','sci.crypt','rec.sport.baseball','comp.windows.x','sci.med']\n",
    "twenty_news = fetch_20newsgroups(subset='all', categories=categories, shuffle=True, random_state=62)"
   ]
  },
  {
   "cell_type": "code",
   "execution_count": 4,
   "metadata": {},
   "outputs": [
    {
     "data": {
      "text/plain": [
       "['alt.atheism',\n",
       " 'comp.graphics',\n",
       " 'comp.windows.x',\n",
       " 'misc.forsale',\n",
       " 'rec.autos',\n",
       " 'rec.motorcycles',\n",
       " 'rec.sport.baseball',\n",
       " 'sci.crypt',\n",
       " 'sci.med',\n",
       " 'sci.space']"
      ]
     },
     "execution_count": 4,
     "metadata": {},
     "output_type": "execute_result"
    }
   ],
   "source": [
    "twenty_news.target_names"
   ]
  },
  {
   "cell_type": "code",
   "execution_count": 5,
   "metadata": {},
   "outputs": [
    {
     "data": {
      "text/plain": [
       "(9683, 9683)"
      ]
     },
     "execution_count": 5,
     "metadata": {},
     "output_type": "execute_result"
    }
   ],
   "source": [
    "len(twenty_news.data), len(twenty_news.filenames)"
   ]
  },
  {
   "cell_type": "code",
   "execution_count": 6,
   "metadata": {},
   "outputs": [
    {
     "data": {
      "text/plain": [
       "10"
      ]
     },
     "execution_count": 6,
     "metadata": {},
     "output_type": "execute_result"
    }
   ],
   "source": [
    "len(twenty_news.target_names)"
   ]
  },
  {
   "cell_type": "markdown",
   "metadata": {},
   "source": [
    "**Taking 30 Documents for Clustering**"
   ]
  },
  {
   "cell_type": "code",
   "execution_count": 92,
   "metadata": {},
   "outputs": [
    {
     "name": "stdout",
     "output_type": "stream",
     "text": [
      "No. of documents: 100\n"
     ]
    }
   ],
   "source": [
    "#dataset = []\n",
    "#target = []\n",
    "#for i in range(0, 10):\n",
    "#    document=0;\n",
    "#    for j in range(0, 2950):\n",
    "#        if(twenty_news.target[j] == i):\n",
    "#            dataset.append(twenty_news.data[j])\n",
    "#            target.append(i)\n",
    "#            document = document + 1\n",
    "#        if(document == 10):\n",
    "#            break\n",
    "# print('No. of documents:', len(dataset))"
   ]
  },
  {
   "cell_type": "markdown",
   "metadata": {},
   "source": [
    "**tf-idf and Clustering**"
   ]
  },
  {
   "cell_type": "code",
   "execution_count": 7,
   "metadata": {},
   "outputs": [
    {
     "name": "stdout",
     "output_type": "stream",
     "text": [
      "No. of samples :  9683\n",
      "No. of feature :  219\n"
     ]
    }
   ],
   "source": [
    "from sklearn.feature_extraction.text import TfidfVectorizer\n",
    "tfidf_vectorizer = TfidfVectorizer(max_df = 0.95, min_df = 0.05, max_features = 10000, stop_words = 'english', use_idf = True)\n",
    "X = tfidf_vectorizer.fit_transform(twenty_news.data)\n",
    "print(\"No. of samples : \", X.shape[0])\n",
    "print(\"No. of feature : \", X.shape[1])"
   ]
  },
  {
   "cell_type": "code",
   "execution_count": 8,
   "metadata": {},
   "outputs": [
    {
     "name": "stdout",
     "output_type": "stream",
     "text": [
      "Fit 2 clusters\n",
      "Fit 4 clusters\n",
      "Fit 6 clusters\n",
      "Fit 8 clusters\n",
      "Fit 10 clusters\n",
      "Fit 12 clusters\n",
      "Fit 14 clusters\n",
      "Fit 16 clusters\n",
      "Fit 18 clusters\n",
      "Fit 20 clusters\n",
      "Fit 22 clusters\n",
      "Fit 24 clusters\n",
      "Fit 26 clusters\n",
      "Fit 28 clusters\n",
      "Fit 30 clusters\n",
      "Fit 32 clusters\n",
      "Fit 34 clusters\n",
      "Fit 36 clusters\n",
      "Fit 38 clusters\n",
      "Fit 40 clusters\n",
      "Fit 42 clusters\n",
      "Fit 44 clusters\n",
      "Fit 46 clusters\n",
      "Fit 48 clusters\n",
      "Fit 50 clusters\n",
      "Fit 52 clusters\n",
      "Fit 54 clusters\n",
      "Fit 56 clusters\n",
      "Fit 58 clusters\n",
      "Fit 60 clusters\n"
     ]
    },
    {
     "data": {
      "image/png": "[encoded data removed]",
      "text/plain": [
       "<Figure size 432x288 with 1 Axes>"
      ]
     },
     "metadata": {
      "needs_background": "light"
     },
     "output_type": "display_data"
    }
   ],
   "source": [
    "def find_optimal_clusters(data, max_k):\n",
    "    iters = range(2, max_k+1,2)\n",
    "    \n",
    "    sse = []\n",
    "    for k in iters:\n",
    "        sse.append(MiniBatchKMeans(n_clusters=k, init_size=1024, batch_size=2048, random_state=20).fit(data).inertia_)\n",
    "        print('Fit {} clusters'.format(k))\n",
    "        \n",
    "    f, ax = plt.subplots(1, 1)\n",
    "    ax.plot(iters, sse, marker='o')\n",
    "    ax.set_xlabel('Cluster Centers')\n",
    "    ax.set_xticks(iters)\n",
    "    ax.set_xticklabels(iters)\n",
    "    ax.set_ylabel('SSE')\n",
    "    ax.set_title('SSE by Cluster Center Plot')\n",
    "    \n",
    "find_optimal_clusters(X,60)"
   ]
  },
  {
   "cell_type": "code",
   "execution_count": 9,
   "metadata": {},
   "outputs": [
    {
     "name": "stdout",
     "output_type": "stream",
     "text": [
      "10\n",
      "Clustering sparse data with KMeans(algorithm='auto', copy_x=True, init='k-means++', max_iter=100,\n",
      "       n_clusters=10, n_init=1, n_jobs=None, precompute_distances='auto',\n",
      "       random_state=None, tol=0.0001, verbose=1)\n",
      "Initialization complete\n",
      "Iteration  0, inertia 13671.984\n",
      "Iteration  1, inertia 7990.156\n",
      "Iteration  2, inertia 7885.825\n",
      "Iteration  3, inertia 7830.368\n",
      "Iteration  4, inertia 7808.733\n",
      "Iteration  5, inertia 7785.855\n",
      "Iteration  6, inertia 7762.703\n",
      "Iteration  7, inertia 7751.847\n",
      "Iteration  8, inertia 7746.686\n",
      "Iteration  9, inertia 7742.559\n",
      "Iteration 10, inertia 7734.851\n",
      "Iteration 11, inertia 7724.593\n",
      "Iteration 12, inertia 7720.759\n",
      "Iteration 13, inertia 7720.077\n",
      "Iteration 14, inertia 7719.900\n",
      "Iteration 15, inertia 7719.806\n",
      "Iteration 16, inertia 7719.769\n",
      "Iteration 17, inertia 7719.753\n",
      "Iteration 18, inertia 7719.749\n",
      "Iteration 19, inertia 7719.748\n",
      "Converged at iteration 19: center shift 0.000000e+00 within tolerance 4.070713e-07\n",
      "Top terms per cluster:\n",
      "Cluster 0:\n",
      " ca\n",
      " edu\n",
      " graphics\n",
      " thanks\n",
      " university\n",
      " program\n",
      " mail\n",
      " com\n",
      " 10\n",
      " help\n",
      "\n",
      "\n",
      "Cluster 1:\n",
      " uk\n",
      " ac\n",
      " university\n",
      " writes\n",
      " edu\n",
      " article\n",
      " com\n",
      " posting\n",
      " host\n",
      " just\n",
      "\n",
      "\n",
      "Cluster 2:\n",
      " org\n",
      " writes\n",
      " article\n",
      " edu\n",
      " com\n",
      " just\n",
      " dod\n",
      " reply\n",
      " distribution\n",
      " posting\n",
      "\n",
      "\n",
      "Cluster 3:\n",
      " nasa\n",
      " gov\n",
      " space\n",
      " edu\n",
      " writes\n",
      " article\n",
      " center\n",
      " com\n",
      " ca\n",
      " like\n",
      "\n",
      "\n",
      "Cluster 4:\n",
      " cs\n",
      " edu\n",
      " science\n",
      " writes\n",
      " article\n",
      " dept\n",
      " computer\n",
      " university\n",
      " com\n",
      " like\n",
      "\n",
      "\n",
      "Cluster 5:\n",
      " key\n",
      " clipper\n",
      " access\n",
      " government\n",
      " com\n",
      " net\n",
      " public\n",
      " use\n",
      " edu\n",
      " phone\n",
      "\n",
      "\n",
      "Cluster 6:\n",
      " com\n",
      " writes\n",
      " article\n",
      " posting\n",
      " edu\n",
      " nntp\n",
      " host\n",
      " reply\n",
      " like\n",
      " distribution\n",
      "\n",
      "\n",
      "Cluster 7:\n",
      " sun\n",
      " com\n",
      " edu\n",
      " like\n",
      " article\n",
      " world\n",
      " posting\n",
      " host\n",
      " distribution\n",
      " nntp\n",
      "\n",
      "\n",
      "Cluster 8:\n",
      " edu\n",
      " don\n",
      " car\n",
      " think\n",
      " just\n",
      " people\n",
      " com\n",
      " like\n",
      " writes\n",
      " good\n",
      "\n",
      "\n",
      "Cluster 9:\n",
      " edu\n",
      " university\n",
      " nntp\n",
      " host\n",
      " posting\n",
      " sale\n",
      " article\n",
      " state\n",
      " writes\n",
      " cc\n",
      "\n",
      "\n"
     ]
    }
   ],
   "source": [
    "labels = twenty_news.target\n",
    "clusters = np.unique(labels).shape[0]\n",
    "print(clusters)\n",
    "km = KMeans (n_clusters = clusters, init = 'k-means++', n_init = 1, verbose = 1, max_iter = 100)\n",
    "\n",
    "print(\"Clustering sparse data with %s\" % km)\n",
    "km.fit(X)\n",
    "\n",
    "print(\"Top terms per cluster:\")\n",
    "order_centroids = km.cluster_centers_.argsort()[:, ::-1]\n",
    "terms = tfidf_vectorizer.get_feature_names()\n",
    "for i in range(clusters):\n",
    "    print(\"Cluster %d:\" % i, end='\\n')\n",
    "    for ind in order_centroids[i, :10]:\n",
    "        print(' %s' % terms[ind], end='')\n",
    "        print()\n",
    "    print('\\n')"
   ]
  },
  {
   "cell_type": "code",
   "execution_count": 10,
   "metadata": {},
   "outputs": [
    {
     "name": "stdout",
     "output_type": "stream",
     "text": [
      "Homogeneity: 0.120\n",
      "Completeness: 0.135\n",
      "V-measure: 0.127\n"
     ]
    }
   ],
   "source": [
    "print(\"Homogeneity: %0.3f\" % metrics.homogeneity_score(labels, km.labels_))\n",
    "print(\"Completeness: %0.3f\" % metrics.completeness_score(labels, km.labels_))\n",
    "print(\"V-measure: %0.3f\" % metrics.v_measure_score(labels, km.labels_))"
   ]
  },
  {
   "cell_type": "code",
   "execution_count": null,
   "metadata": {},
   "outputs": [],
   "source": []
  }
 ],
 "metadata": {
  "kernelspec": {
   "display_name": "Python 3",
   "language": "python",
   "name": "python3"
  },
  "language_info": {
   "codemirror_mode": {
    "name": "ipython",
    "version": 3
   },
   "file_extension": ".py",
   "mimetype": "text/x-python",
   "name": "python",
   "nbconvert_exporter": "python",
   "pygments_lexer": "ipython3",
   "version": "3.7.4"
  }
 },
 "nbformat": 4,
 "nbformat_minor": 2
}
