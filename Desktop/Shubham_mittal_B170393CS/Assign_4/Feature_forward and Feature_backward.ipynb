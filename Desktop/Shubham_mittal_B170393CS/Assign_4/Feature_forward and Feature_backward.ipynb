{
 "cells": [
  {
   "cell_type": "code",
   "execution_count": 1,
   "metadata": {},
   "outputs": [
    {
     "name": "stdout",
     "output_type": "stream",
     "text": [
      "Requirement already satisfied: mlxtend in e:\\anacoda\\lib\\site-packages (0.17.1)\n",
      "Requirement already satisfied: joblib>=0.13.2 in e:\\anacoda\\lib\\site-packages (from mlxtend) (0.13.2)\n",
      "Requirement already satisfied: scipy>=1.2.1 in e:\\anacoda\\lib\\site-packages (from mlxtend) (1.2.1)\n",
      "Requirement already satisfied: scikit-learn>=0.20.3 in e:\\anacoda\\lib\\site-packages (from mlxtend) (0.21.2)\n",
      "Requirement already satisfied: numpy>=1.16.2 in e:\\anacoda\\lib\\site-packages (from mlxtend) (1.16.4)\n",
      "Requirement already satisfied: pandas>=0.24.2 in e:\\anacoda\\lib\\site-packages (from mlxtend) (0.24.2)\n",
      "Requirement already satisfied: setuptools in e:\\anacoda\\lib\\site-packages (from mlxtend) (41.0.1)\n",
      "Requirement already satisfied: matplotlib>=3.0.0 in e:\\anacoda\\lib\\site-packages (from mlxtend) (3.1.0)\n",
      "Requirement already satisfied: pytz>=2011k in e:\\anacoda\\lib\\site-packages (from pandas>=0.24.2->mlxtend) (2019.1)\n",
      "Requirement already satisfied: python-dateutil>=2.5.0 in e:\\anacoda\\lib\\site-packages (from pandas>=0.24.2->mlxtend) (2.8.0)\n",
      "Requirement already satisfied: cycler>=0.10 in e:\\anacoda\\lib\\site-packages (from matplotlib>=3.0.0->mlxtend) (0.10.0)\n",
      "Requirement already satisfied: kiwisolver>=1.0.1 in e:\\anacoda\\lib\\site-packages (from matplotlib>=3.0.0->mlxtend) (1.1.0)\n",
      "Requirement already satisfied: pyparsing!=2.0.4,!=2.1.2,!=2.1.6,>=2.0.1 in e:\\anacoda\\lib\\site-packages (from matplotlib>=3.0.0->mlxtend) (2.4.0)\n",
      "Requirement already satisfied: six>=1.5 in e:\\anacoda\\lib\\site-packages (from python-dateutil>=2.5.0->pandas>=0.24.2->mlxtend) (1.12.0)\n"
     ]
    }
   ],
   "source": [
    "!pip install mlxtend"
   ]
  },
  {
   "cell_type": "code",
   "execution_count": 12,
   "metadata": {},
   "outputs": [],
   "source": [
    "import pandas as pd\n",
    "import numpy as np\n",
    "import seaborn as sns\n",
    "import matplotlib.pyplot as plt\n",
    "%matplotlib inline"
   ]
  },
  {
   "cell_type": "code",
   "execution_count": 13,
   "metadata": {},
   "outputs": [],
   "source": [
    "from sklearn.model_selection import train_test_split\n",
    "from sklearn.ensemble import RandomForestClassifier\n",
    "from sklearn.metrics import accuracy_score, roc_auc_score\n",
    "from sklearn.feature_selection import VarianceThreshold\n",
    "from sklearn.preprocessing import StandardScaler\n",
    "from mlxtend.feature_selection import SequentialFeatureSelector as SFS"
   ]
  },
  {
   "cell_type": "code",
   "execution_count": 14,
   "metadata": {},
   "outputs": [],
   "source": [
    "data = pd.read_csv('dermatology_csv.csv')\n",
    "data.head()\n",
    "\n",
    "X = data.iloc[:,0:34]\n",
    "\n",
    "y = data.iloc[:,-1]\n",
    "\n",
    "from sklearn.impute import SimpleImputer\n",
    "imputer = SimpleImputer(missing_values=np.nan,strategy ='mean')\n",
    "imputer = imputer.fit(X)\n",
    "X = imputer.transform(X)"
   ]
  },
  {
   "cell_type": "code",
   "execution_count": 15,
   "metadata": {},
   "outputs": [
    {
     "name": "stderr",
     "output_type": "stream",
     "text": [
      "[Parallel(n_jobs=-1)]: Using backend LokyBackend with 8 concurrent workers.\n",
      "[Parallel(n_jobs=-1)]: Done  34 out of  34 | elapsed:    8.9s finished\n",
      "\n",
      "[2020-02-11 16:56:16] Features: 1/7 -- score: 0.5027767930993737[Parallel(n_jobs=-1)]: Using backend LokyBackend with 8 concurrent workers.\n",
      "[Parallel(n_jobs=-1)]: Done  33 out of  33 | elapsed:    9.3s finished\n",
      "\n",
      "[2020-02-11 16:56:25] Features: 2/7 -- score: 0.6750856670211508[Parallel(n_jobs=-1)]: Using backend LokyBackend with 8 concurrent workers.\n",
      "[Parallel(n_jobs=-1)]: Done  32 out of  32 | elapsed:    8.6s finished\n",
      "\n",
      "[2020-02-11 16:56:34] Features: 3/7 -- score: 0.7926267281105991[Parallel(n_jobs=-1)]: Using backend LokyBackend with 8 concurrent workers.\n",
      "[Parallel(n_jobs=-1)]: Done  31 out of  31 | elapsed:    7.7s finished\n",
      "\n",
      "[2020-02-11 16:56:42] Features: 4/7 -- score: 0.8688408365827721[Parallel(n_jobs=-1)]: Using backend LokyBackend with 8 concurrent workers.\n",
      "[Parallel(n_jobs=-1)]: Done  30 out of  30 | elapsed:    7.9s finished\n",
      "\n",
      "[2020-02-11 16:56:50] Features: 5/7 -- score: 0.912737799834574[Parallel(n_jobs=-1)]: Using backend LokyBackend with 8 concurrent workers.\n",
      "[Parallel(n_jobs=-1)]: Done  29 out of  29 | elapsed:    7.6s remaining:    0.0s\n",
      "[Parallel(n_jobs=-1)]: Done  29 out of  29 | elapsed:    7.6s finished\n",
      "\n",
      "[2020-02-11 16:56:58] Features: 6/7 -- score: 0.923785891527827[Parallel(n_jobs=-1)]: Using backend LokyBackend with 8 concurrent workers.\n",
      "[Parallel(n_jobs=-1)]: Done  28 out of  28 | elapsed:    7.6s remaining:    0.0s\n",
      "[Parallel(n_jobs=-1)]: Done  28 out of  28 | elapsed:    7.6s finished\n",
      "\n",
      "[2020-02-11 16:57:05] Features: 7/7 -- score: 0.9646401985111663"
     ]
    }
   ],
   "source": [
    "sfs = SFS(RandomForestClassifier(n_estimators=100, random_state=0, n_jobs = -1),\n",
    "         k_features = 7,\n",
    "          forward= True,\n",
    "          floating = False,\n",
    "          verbose= 2,\n",
    "          scoring= 'accuracy',\n",
    "          cv = 4,\n",
    "          n_jobs= -1\n",
    "         ).fit(X, y)"
   ]
  },
  {
   "cell_type": "code",
   "execution_count": 5,
   "metadata": {},
   "outputs": [
    {
     "data": {
      "text/plain": [
       "('4', '13', '14', '20', '27', '29', '32')"
      ]
     },
     "execution_count": 5,
     "metadata": {},
     "output_type": "execute_result"
    }
   ],
   "source": [
    "sfs.k_feature_names_"
   ]
  },
  {
   "cell_type": "code",
   "execution_count": 6,
   "metadata": {},
   "outputs": [
    {
     "data": {
      "text/plain": [
       "0.9646401985111663"
      ]
     },
     "execution_count": 6,
     "metadata": {},
     "output_type": "execute_result"
    }
   ],
   "source": [
    "sfs.k_score_"
   ]
  },
  {
   "cell_type": "code",
   "execution_count": 7,
   "metadata": {},
   "outputs": [
    {
     "data": {
      "text/html": [
       "<div>\n",
       "<style scoped>\n",
       "    .dataframe tbody tr th:only-of-type {\n",
       "        vertical-align: middle;\n",
       "    }\n",
       "\n",
       "    .dataframe tbody tr th {\n",
       "        vertical-align: top;\n",
       "    }\n",
       "\n",
       "    .dataframe thead th {\n",
       "        text-align: right;\n",
       "    }\n",
       "</style>\n",
       "<table border=\"1\" class=\"dataframe\">\n",
       "  <thead>\n",
       "    <tr style=\"text-align: right;\">\n",
       "      <th></th>\n",
       "      <th>avg_score</th>\n",
       "      <th>ci_bound</th>\n",
       "      <th>cv_scores</th>\n",
       "      <th>feature_idx</th>\n",
       "      <th>feature_names</th>\n",
       "      <th>std_dev</th>\n",
       "      <th>std_err</th>\n",
       "    </tr>\n",
       "  </thead>\n",
       "  <tbody>\n",
       "    <tr>\n",
       "      <th>1</th>\n",
       "      <td>0.502777</td>\n",
       "      <td>0.00754558</td>\n",
       "      <td>[0.4946236559139785, 0.5054945054945055, 0.505...</td>\n",
       "      <td>(20,)</td>\n",
       "      <td>(20,)</td>\n",
       "      <td>0.00470722</td>\n",
       "      <td>0.00271771</td>\n",
       "    </tr>\n",
       "    <tr>\n",
       "      <th>2</th>\n",
       "      <td>0.675086</td>\n",
       "      <td>0.0687533</td>\n",
       "      <td>[0.6344086021505376, 0.7472527472527473, 0.659...</td>\n",
       "      <td>(13, 20)</td>\n",
       "      <td>(13, 20)</td>\n",
       "      <td>0.0428909</td>\n",
       "      <td>0.0247631</td>\n",
       "    </tr>\n",
       "    <tr>\n",
       "      <th>3</th>\n",
       "      <td>0.792627</td>\n",
       "      <td>0.0831086</td>\n",
       "      <td>[0.7419354838709677, 0.8791208791208791, 0.780...</td>\n",
       "      <td>(13, 20, 32)</td>\n",
       "      <td>(13, 20, 32)</td>\n",
       "      <td>0.0518463</td>\n",
       "      <td>0.0299335</td>\n",
       "    </tr>\n",
       "    <tr>\n",
       "      <th>4</th>\n",
       "      <td>0.868841</td>\n",
       "      <td>0.0249893</td>\n",
       "      <td>[0.8709677419354839, 0.8901098901098901, 0.846...</td>\n",
       "      <td>(13, 14, 20, 32)</td>\n",
       "      <td>(13, 14, 20, 32)</td>\n",
       "      <td>0.0155892</td>\n",
       "      <td>0.00900046</td>\n",
       "    </tr>\n",
       "    <tr>\n",
       "      <th>5</th>\n",
       "      <td>0.912738</td>\n",
       "      <td>0.0380082</td>\n",
       "      <td>[0.8817204301075269, 0.945054945054945, 0.9010...</td>\n",
       "      <td>(13, 14, 20, 29, 32)</td>\n",
       "      <td>(13, 14, 20, 29, 32)</td>\n",
       "      <td>0.0237109</td>\n",
       "      <td>0.0136895</td>\n",
       "    </tr>\n",
       "    <tr>\n",
       "      <th>6</th>\n",
       "      <td>0.923786</td>\n",
       "      <td>0.0619477</td>\n",
       "      <td>[0.8709677419354839, 0.9340659340659341, 0.912...</td>\n",
       "      <td>(4, 13, 14, 20, 29, 32)</td>\n",
       "      <td>(4, 13, 14, 20, 29, 32)</td>\n",
       "      <td>0.0386453</td>\n",
       "      <td>0.0223119</td>\n",
       "    </tr>\n",
       "    <tr>\n",
       "      <th>7</th>\n",
       "      <td>0.96464</td>\n",
       "      <td>0.0330171</td>\n",
       "      <td>[0.9354838709677419, 0.989010989010989, 0.9560...</td>\n",
       "      <td>(4, 13, 14, 20, 27, 29, 32)</td>\n",
       "      <td>(4, 13, 14, 20, 27, 29, 32)</td>\n",
       "      <td>0.0205973</td>\n",
       "      <td>0.0118919</td>\n",
       "    </tr>\n",
       "  </tbody>\n",
       "</table>\n",
       "</div>"
      ],
      "text/plain": [
       "  avg_score    ci_bound                                          cv_scores  \\\n",
       "1  0.502777  0.00754558  [0.4946236559139785, 0.5054945054945055, 0.505...   \n",
       "2  0.675086   0.0687533  [0.6344086021505376, 0.7472527472527473, 0.659...   \n",
       "3  0.792627   0.0831086  [0.7419354838709677, 0.8791208791208791, 0.780...   \n",
       "4  0.868841   0.0249893  [0.8709677419354839, 0.8901098901098901, 0.846...   \n",
       "5  0.912738   0.0380082  [0.8817204301075269, 0.945054945054945, 0.9010...   \n",
       "6  0.923786   0.0619477  [0.8709677419354839, 0.9340659340659341, 0.912...   \n",
       "7   0.96464   0.0330171  [0.9354838709677419, 0.989010989010989, 0.9560...   \n",
       "\n",
       "                   feature_idx                feature_names     std_dev  \\\n",
       "1                        (20,)                        (20,)  0.00470722   \n",
       "2                     (13, 20)                     (13, 20)   0.0428909   \n",
       "3                 (13, 20, 32)                 (13, 20, 32)   0.0518463   \n",
       "4             (13, 14, 20, 32)             (13, 14, 20, 32)   0.0155892   \n",
       "5         (13, 14, 20, 29, 32)         (13, 14, 20, 29, 32)   0.0237109   \n",
       "6      (4, 13, 14, 20, 29, 32)      (4, 13, 14, 20, 29, 32)   0.0386453   \n",
       "7  (4, 13, 14, 20, 27, 29, 32)  (4, 13, 14, 20, 27, 29, 32)   0.0205973   \n",
       "\n",
       "      std_err  \n",
       "1  0.00271771  \n",
       "2   0.0247631  \n",
       "3   0.0299335  \n",
       "4  0.00900046  \n",
       "5   0.0136895  \n",
       "6   0.0223119  \n",
       "7   0.0118919  "
      ]
     },
     "execution_count": 7,
     "metadata": {},
     "output_type": "execute_result"
    }
   ],
   "source": [
    "pd.DataFrame.from_dict(sfs.get_metric_dict()).T"
   ]
  },
  {
   "cell_type": "code",
   "execution_count": 9,
   "metadata": {},
   "outputs": [
    {
     "ename": "SyntaxError",
     "evalue": "invalid syntax (<ipython-input-9-eabed1c85bb1>, line 3)",
     "output_type": "error",
     "traceback": [
      "\u001b[1;36m  File \u001b[1;32m\"<ipython-input-9-eabed1c85bb1>\"\u001b[1;36m, line \u001b[1;32m3\u001b[0m\n\u001b[1;33m    forward= True,\u001b[0m\n\u001b[1;37m          ^\u001b[0m\n\u001b[1;31mSyntaxError\u001b[0m\u001b[1;31m:\u001b[0m invalid syntax\n"
     ]
    }
   ],
   "source": [
    "sfs = SFS(RandomForestClassifier(n_estimators=100, random_state=0, n_jobs = -1),\n",
    "         k_features = 7\n",
    "          forward= True,\n",
    "          floating = False,\n",
    "          verbose= 2,\n",
    "          scoring= 'accuracy',\n",
    "          cv = 4,\n",
    "          n_jobs= -1\n",
    "         ).fit(X, y)"
   ]
  },
  {
   "cell_type": "code",
   "execution_count": 10,
   "metadata": {},
   "outputs": [
    {
     "data": {
      "text/plain": [
       "0.9728819567529245"
      ]
     },
     "execution_count": 10,
     "metadata": {},
     "output_type": "execute_result"
    }
   ],
   "source": [
    "sfs.k_score_"
   ]
  },
  {
   "cell_type": "code",
   "execution_count": 11,
   "metadata": {},
   "outputs": [
    {
     "data": {
      "text/plain": [
       "('4', '13', '14', '16', '20', '25', '27', '29', '32')"
      ]
     },
     "execution_count": 11,
     "metadata": {},
     "output_type": "execute_result"
    }
   ],
   "source": [
    "sfs.k_feature_names_"
   ]
  },
  {
   "cell_type": "code",
   "execution_count": null,
   "metadata": {},
   "outputs": [],
   "source": [
    "###step Backward selection"
   ]
  },
  {
   "cell_type": "code",
   "execution_count": 16,
   "metadata": {
    "scrolled": false
   },
   "outputs": [
    {
     "ename": "SyntaxError",
     "evalue": "invalid syntax (<ipython-input-16-95fb3f7b7403>, line 3)",
     "output_type": "error",
     "traceback": [
      "\u001b[1;36m  File \u001b[1;32m\"<ipython-input-16-95fb3f7b7403>\"\u001b[1;36m, line \u001b[1;32m3\u001b[0m\n\u001b[1;33m    forward= False,\u001b[0m\n\u001b[1;37m          ^\u001b[0m\n\u001b[1;31mSyntaxError\u001b[0m\u001b[1;31m:\u001b[0m invalid syntax\n"
     ]
    }
   ],
   "source": [
    "sfs = SFS(RandomForestClassifier(n_estimators=100, random_state=0, n_jobs = -1),\n",
    "         k_features = 7\n",
    "          forward= False,\n",
    "          floating = False,\n",
    "          verbose= 2,\n",
    "          scoring= 'accuracy',\n",
    "          cv = 4,\n",
    "          n_jobs= -1\n",
    "         ).fit(X, y)"
   ]
  },
  {
   "cell_type": "code",
   "execution_count": 28,
   "metadata": {},
   "outputs": [
    {
     "data": {
      "text/plain": [
       "0.9646401985111663"
      ]
     },
     "execution_count": 28,
     "metadata": {},
     "output_type": "execute_result"
    }
   ],
   "source": [
    "sbs = sfs\n",
    "\n",
    "sbs.k_score_"
   ]
  },
  {
   "cell_type": "code",
   "execution_count": 27,
   "metadata": {},
   "outputs": [
    {
     "data": {
      "text/plain": [
       "('4', '13', '14', '20', '27', '29', '32')"
      ]
     },
     "execution_count": 27,
     "metadata": {},
     "output_type": "execute_result"
    }
   ],
   "source": [
    "sbs.k_feature_names_\n"
   ]
  }
 ],
 "metadata": {
  "kernelspec": {
   "display_name": "Python 3",
   "language": "python",
   "name": "python3"
  },
  "language_info": {
   "codemirror_mode": {
    "name": "ipython",
    "version": 3
   },
   "file_extension": ".py",
   "mimetype": "text/x-python",
   "name": "python",
   "nbconvert_exporter": "python",
   "pygments_lexer": "ipython3",
   "version": "3.7.4"
  }
 },
 "nbformat": 4,
 "nbformat_minor": 2
}
