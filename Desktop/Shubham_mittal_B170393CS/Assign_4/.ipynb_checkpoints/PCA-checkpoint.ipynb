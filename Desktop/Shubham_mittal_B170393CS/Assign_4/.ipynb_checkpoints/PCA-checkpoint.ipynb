{
 "cells": [
  {
   "cell_type": "code",
   "execution_count": 1,
   "metadata": {},
   "outputs": [],
   "source": [
    "import pandas as pd\n",
    "import numpy as np\n",
    "import seaborn as sns\n",
    "import matplotlib.pyplot as plt\n",
    "%matplotlib inline"
   ]
  },
  {
   "cell_type": "code",
   "execution_count": 2,
   "metadata": {},
   "outputs": [],
   "source": [
    "from sklearn.model_selection import train_test_split\n",
    "from sklearn.ensemble import RandomForestClassifier\n",
    "from sklearn.metrics import accuracy_score, roc_auc_score\n",
    "from sklearn.feature_selection import VarianceThreshold\n",
    "from sklearn.preprocessing import StandardScaler\n"
   ]
  },
  {
   "cell_type": "code",
   "execution_count": 3,
   "metadata": {},
   "outputs": [],
   "source": [
    "data = pd.read_csv('dermatology_csv.csv')\n",
    "data.head()\n",
    "\n",
    "X = data.iloc[:,0:34]\n",
    "\n",
    "y = data.iloc[:,-1]\n",
    "\n",
    "from sklearn.impute import SimpleImputer\n",
    "imputer = SimpleImputer(missing_values=np.nan,strategy ='mean')\n",
    "imputer = imputer.fit(X)\n",
    "X = imputer.transform(X)\n",
    "\n",
    "X_train, X_test, y_train, y_test = train_test_split(X, y, test_size = 0.3, random_state = 0, stratify = y)"
   ]
  },
  {
   "cell_type": "code",
   "execution_count": 275,
   "metadata": {},
   "outputs": [],
   "source": [
    "constant_filter = VarianceThreshold(threshold=0.01)\n",
    "constant_filter.fit(X_train)\n",
    "X_train_filter = constant_filter.transform(X_train)\n",
    "X_test_filter = constant_filter.transform(X_test)"
   ]
  },
  {
   "cell_type": "code",
   "execution_count": 249,
   "metadata": {},
   "outputs": [
    {
     "data": {
      "text/plain": [
       "((256, 34), (110, 34))"
      ]
     },
     "execution_count": 249,
     "metadata": {},
     "output_type": "execute_result"
    }
   ],
   "source": [
    "X_train_filter.shape, X_test_filter.shape"
   ]
  },
  {
   "cell_type": "code",
   "execution_count": 250,
   "metadata": {},
   "outputs": [],
   "source": [
    "X_train_T = X_train_filter.T\n",
    "X_test_T = X_test_filter.T"
   ]
  },
  {
   "cell_type": "code",
   "execution_count": 251,
   "metadata": {},
   "outputs": [],
   "source": [
    "X_train_T = pd.DataFrame(X_train_T)\n",
    "X_test_T = pd.DataFrame(X_test_T)"
   ]
  },
  {
   "cell_type": "code",
   "execution_count": 252,
   "metadata": {},
   "outputs": [
    {
     "data": {
      "text/plain": [
       "0"
      ]
     },
     "execution_count": 252,
     "metadata": {},
     "output_type": "execute_result"
    }
   ],
   "source": [
    "X_train_T.duplicated().sum()"
   ]
  },
  {
   "cell_type": "code",
   "execution_count": 253,
   "metadata": {},
   "outputs": [],
   "source": [
    "duplicated_features = X_train_T.duplicated()"
   ]
  },
  {
   "cell_type": "code",
   "execution_count": 254,
   "metadata": {},
   "outputs": [],
   "source": [
    "features_to_keep = [not index for index in duplicated_features]\n",
    "\n",
    "X_train_unique = X_train_T[features_to_keep].T\n",
    "X_test_unique = X_test_T[features_to_keep].T"
   ]
  },
  {
   "cell_type": "code",
   "execution_count": 217,
   "metadata": {},
   "outputs": [],
   "source": [
    "scaler = StandardScaler().fit(X_train_unique)\n",
    "X_train_unique = scaler.transform(X_train_unique)\n",
    "X_test_unique = scaler.transform(X_test_unique)"
   ]
  },
  {
   "cell_type": "code",
   "execution_count": 255,
   "metadata": {},
   "outputs": [
    {
     "data": {
      "text/plain": [
       "((256, 34), (110, 34))"
      ]
     },
     "execution_count": 255,
     "metadata": {},
     "output_type": "execute_result"
    }
   ],
   "source": [
    "X_train_unique = pd.DataFrame(X_train_unique)\n",
    "X_test_unique = pd.DataFrame(X_test_unique)\n",
    "\n",
    "X_train_unique.shape, X_test_unique.shape\n"
   ]
  },
  {
   "cell_type": "code",
   "execution_count": 256,
   "metadata": {},
   "outputs": [],
   "source": [
    "corrmat = X_train_unique.corr()"
   ]
  },
  {
   "cell_type": "code",
   "execution_count": 257,
   "metadata": {},
   "outputs": [
    {
     "name": "stdout",
     "output_type": "stream",
     "text": [
      "correlated features:  11\n"
     ]
    }
   ],
   "source": [
    "def get_correlation(data, threshold):\n",
    "    corr_col = set()\n",
    "    corrmat = data.corr()\n",
    "    for i in range(len(corrmat.columns)):\n",
    "        for j in range(i):\n",
    "            if abs(corrmat.iloc[i, j]) > threshold:\n",
    "                colname = corrmat.columns[i]\n",
    "                corr_col.add(colname)\n",
    "    return corr_col\n",
    "\n",
    "corr_features = get_correlation(X_train_unique, 0.70)\n",
    "print('correlated features: ', len(set(corr_features)) )"
   ]
  },
  {
   "cell_type": "code",
   "execution_count": 258,
   "metadata": {},
   "outputs": [
    {
     "data": {
      "text/plain": [
       "((256, 23), (110, 23))"
      ]
     },
     "execution_count": 258,
     "metadata": {},
     "output_type": "execute_result"
    }
   ],
   "source": [
    "X_train_uncorr = X_train_unique.drop(labels=corr_features, axis = 1)\n",
    "X_test_uncorr = X_test_unique.drop(labels = corr_features, axis = 1)\n",
    "\n",
    "X_train_uncorr.shape, X_test_uncorr.shape"
   ]
  },
  {
   "cell_type": "code",
   "execution_count": 261,
   "metadata": {},
   "outputs": [
    {
     "data": {
      "text/plain": [
       "((256, 2), (110, 2))"
      ]
     },
     "execution_count": 261,
     "metadata": {},
     "output_type": "execute_result"
    }
   ],
   "source": [
    "from sklearn.decomposition import PCA\n",
    "\n",
    "\n",
    "pca = PCA(n_components=2, random_state=42)\n",
    "pca.fit(X_train_uncorr)\n",
    "\n",
    "X_train_pca = pca.transform(X_train_uncorr)\n",
    "X_test_pca = pca.transform(X_test_uncorr)\n",
    "X_train_pca.shape, X_test_pca.shape"
   ]
  },
  {
   "cell_type": "code",
   "execution_count": 264,
   "metadata": {},
   "outputs": [],
   "source": [
    "def run_randomForest(X_train, X_test, y_train, y_test):\n",
    "    clf = RandomForestClassifier(n_estimators=100, random_state=0, n_jobs=-1)\n",
    "    clf.fit(X_train, y_train)\n",
    "    y_pred = clf.predict(X_test)\n",
    "    print('Accuracy on test set: ')\n",
    "    print(accuracy_score(y_test, y_pred))"
   ]
  },
  {
   "cell_type": "code",
   "execution_count": 265,
   "metadata": {},
   "outputs": [
    {
     "name": "stdout",
     "output_type": "stream",
     "text": [
      "Accuracy on test set: \n",
      "0.6363636363636364\n",
      "Wall time: 897 ms\n"
     ]
    }
   ],
   "source": [
    "%%time\n",
    "run_randomForest(X_train_pca, X_test_pca, y_train, y_test)"
   ]
  },
  {
   "cell_type": "code",
   "execution_count": 266,
   "metadata": {},
   "outputs": [
    {
     "name": "stdout",
     "output_type": "stream",
     "text": [
      "Accuracy on test set: \n",
      "0.9545454545454546\n",
      "Wall time: 295 ms\n"
     ]
    }
   ],
   "source": [
    "%%time\n",
    "run_randomForest(X_train, X_test, y_train, y_test)"
   ]
  },
  {
   "cell_type": "code",
   "execution_count": 267,
   "metadata": {},
   "outputs": [
    {
     "data": {
      "text/plain": [
       "(256, 23)"
      ]
     },
     "execution_count": 267,
     "metadata": {},
     "output_type": "execute_result"
    }
   ],
   "source": [
    "X_train_uncorr.shape"
   ]
  },
  {
   "cell_type": "code",
   "execution_count": 269,
   "metadata": {},
   "outputs": [
    {
     "name": "stdout",
     "output_type": "stream",
     "text": [
      "Selected Components:  1\n",
      "Accuracy on test set: \n",
      "0.39090909090909093\n",
      "\n",
      "Selected Components:  2\n",
      "Accuracy on test set: \n",
      "0.6363636363636364\n",
      "\n",
      "Selected Components:  3\n",
      "Accuracy on test set: \n",
      "0.7181818181818181\n",
      "\n",
      "Selected Components:  4\n",
      "Accuracy on test set: \n",
      "0.8090909090909091\n",
      "\n",
      "Selected Components:  5\n",
      "Accuracy on test set: \n",
      "0.8727272727272727\n",
      "\n",
      "Selected Components:  6\n",
      "Accuracy on test set: \n",
      "0.8909090909090909\n",
      "\n",
      "Selected Components:  7\n",
      "Accuracy on test set: \n",
      "0.8909090909090909\n",
      "\n",
      "Selected Components:  8\n",
      "Accuracy on test set: \n",
      "0.8909090909090909\n",
      "\n",
      "Selected Components:  9\n",
      "Accuracy on test set: \n",
      "0.8909090909090909\n",
      "\n",
      "Selected Components:  10\n",
      "Accuracy on test set: \n",
      "0.8818181818181818\n",
      "\n",
      "Selected Components:  11\n",
      "Accuracy on test set: \n",
      "0.8818181818181818\n",
      "\n",
      "Selected Components:  12\n",
      "Accuracy on test set: \n",
      "0.8909090909090909\n",
      "\n",
      "Selected Components:  13\n",
      "Accuracy on test set: \n",
      "0.8727272727272727\n",
      "\n",
      "Selected Components:  14\n",
      "Accuracy on test set: \n",
      "0.9090909090909091\n",
      "\n",
      "Selected Components:  15\n",
      "Accuracy on test set: \n",
      "0.9\n",
      "\n",
      "Selected Components:  16\n",
      "Accuracy on test set: \n",
      "0.9090909090909091\n",
      "\n",
      "Selected Components:  17\n",
      "Accuracy on test set: \n",
      "0.9272727272727272\n",
      "\n",
      "Selected Components:  18\n",
      "Accuracy on test set: \n",
      "0.9\n",
      "\n",
      "Selected Components:  19\n",
      "Accuracy on test set: \n",
      "0.9090909090909091\n",
      "\n",
      "Selected Components:  20\n",
      "Accuracy on test set: \n",
      "0.9090909090909091\n",
      "\n",
      "Selected Components:  21\n",
      "Accuracy on test set: \n",
      "0.9090909090909091\n",
      "\n",
      "Selected Components:  22\n",
      "Accuracy on test set: \n",
      "0.9\n",
      "\n",
      "Selected Components:  23\n",
      "Accuracy on test set: \n",
      "0.9272727272727272\n",
      "\n"
     ]
    }
   ],
   "source": [
    "for component in range(1,24):\n",
    "    pca = PCA(n_components=component, random_state=42)\n",
    "    pca.fit(X_train_uncorr)\n",
    "    X_train_pca = pca.transform(X_train_uncorr)\n",
    "    X_test_pca = pca.transform(X_test_uncorr)\n",
    "    print('Selected Components: ', component)\n",
    "    run_randomForest(X_train_pca, X_test_pca, y_train, y_test)\n",
    "    print()\n"
   ]
  },
  {
   "cell_type": "code",
   "execution_count": 271,
   "metadata": {},
   "outputs": [
    {
     "name": "stdout",
     "output_type": "stream",
     "text": [
      "Selected Components:  1\n",
      "Accuracy on test set: \n",
      "0.5\n",
      "\n",
      "Selected Components:  2\n",
      "Accuracy on test set: \n",
      "0.7545454545454545\n",
      "\n",
      "Selected Components:  3\n",
      "Accuracy on test set: \n",
      "0.8\n",
      "\n",
      "Selected Components:  4\n",
      "Accuracy on test set: \n",
      "0.8363636363636363\n",
      "\n",
      "Selected Components:  5\n",
      "Accuracy on test set: \n",
      "0.8909090909090909\n",
      "\n",
      "Selected Components:  6\n",
      "Accuracy on test set: \n",
      "0.8818181818181818\n",
      "\n",
      "Selected Components:  7\n",
      "Accuracy on test set: \n",
      "0.9454545454545454\n",
      "\n",
      "Selected Components:  8\n",
      "Accuracy on test set: \n",
      "0.9636363636363636\n",
      "\n",
      "Selected Components:  9\n",
      "Accuracy on test set: \n",
      "0.9545454545454546\n",
      "\n",
      "Selected Components:  10\n",
      "Accuracy on test set: \n",
      "0.9636363636363636\n",
      "\n",
      "Selected Components:  11\n",
      "Accuracy on test set: \n",
      "0.9636363636363636\n",
      "\n",
      "Selected Components:  12\n",
      "Accuracy on test set: \n",
      "0.9454545454545454\n",
      "\n",
      "Selected Components:  13\n",
      "Accuracy on test set: \n",
      "0.9545454545454546\n",
      "\n",
      "Selected Components:  14\n",
      "Accuracy on test set: \n",
      "0.9545454545454546\n",
      "\n",
      "Selected Components:  15\n",
      "Accuracy on test set: \n",
      "0.9454545454545454\n",
      "\n",
      "Selected Components:  16\n",
      "Accuracy on test set: \n",
      "0.9545454545454546\n",
      "\n",
      "Selected Components:  17\n",
      "Accuracy on test set: \n",
      "0.9363636363636364\n",
      "\n",
      "Selected Components:  18\n",
      "Accuracy on test set: \n",
      "0.9454545454545454\n",
      "\n",
      "Selected Components:  19\n",
      "Accuracy on test set: \n",
      "0.9545454545454546\n",
      "\n",
      "Selected Components:  20\n",
      "Accuracy on test set: \n",
      "0.9545454545454546\n",
      "\n",
      "Selected Components:  21\n",
      "Accuracy on test set: \n",
      "0.9636363636363636\n",
      "\n",
      "Selected Components:  22\n",
      "Accuracy on test set: \n",
      "0.9454545454545454\n",
      "\n",
      "Selected Components:  23\n",
      "Accuracy on test set: \n",
      "0.9545454545454546\n",
      "\n",
      "Selected Components:  24\n",
      "Accuracy on test set: \n",
      "0.9545454545454546\n",
      "\n",
      "Selected Components:  25\n",
      "Accuracy on test set: \n",
      "0.9636363636363636\n",
      "\n",
      "Selected Components:  26\n",
      "Accuracy on test set: \n",
      "0.9636363636363636\n",
      "\n",
      "Selected Components:  27\n",
      "Accuracy on test set: \n",
      "0.9545454545454546\n",
      "\n",
      "Selected Components:  28\n",
      "Accuracy on test set: \n",
      "0.9545454545454546\n",
      "\n",
      "Selected Components:  29\n",
      "Accuracy on test set: \n",
      "0.9636363636363636\n",
      "\n",
      "Selected Components:  30\n",
      "Accuracy on test set: \n",
      "0.9545454545454546\n",
      "\n",
      "Selected Components:  31\n",
      "Accuracy on test set: \n",
      "0.9636363636363636\n",
      "\n",
      "Selected Components:  32\n",
      "Accuracy on test set: \n",
      "0.9727272727272728\n",
      "\n",
      "Selected Components:  33\n",
      "Accuracy on test set: \n",
      "0.9636363636363636\n",
      "\n"
     ]
    }
   ],
   "source": [
    "for component in range(1,34):\n",
    "    pca = PCA(n_components=component, random_state=42)\n",
    "    pca.fit(X_train_unique)\n",
    "    X_train_pca = pca.transform(X_train_unique)\n",
    "    X_test_pca = pca.transform(X_test_unique)\n",
    "    print('Selected Components: ', component)\n",
    "    run_randomForest(X_train_pca, X_test_pca, y_train, y_test)\n",
    "    print()\n"
   ]
  },
  {
   "cell_type": "code",
   "execution_count": null,
   "metadata": {},
   "outputs": [],
   "source": []
  }
 ],
 "metadata": {
  "kernelspec": {
   "display_name": "Python 3",
   "language": "python",
   "name": "python3"
  },
  "language_info": {
   "codemirror_mode": {
    "name": "ipython",
    "version": 3
   },
   "file_extension": ".py",
   "mimetype": "text/x-python",
   "name": "python",
   "nbconvert_exporter": "python",
   "pygments_lexer": "ipython3",
   "version": "3.7.3"
  }
 },
 "nbformat": 4,
 "nbformat_minor": 2
}
