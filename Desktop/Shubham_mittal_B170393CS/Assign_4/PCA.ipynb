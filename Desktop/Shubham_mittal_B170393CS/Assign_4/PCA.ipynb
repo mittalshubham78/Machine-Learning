{
 "cells": [
  {
   "cell_type": "code",
   "execution_count": 5,
   "metadata": {},
   "outputs": [],
   "source": [
    "import pandas as pd\n",
    "import numpy as np\n",
    "import seaborn as sns\n",
    "import matplotlib.pyplot as plt\n",
    "%matplotlib inline"
   ]
  },
  {
   "cell_type": "code",
   "execution_count": 6,
   "metadata": {},
   "outputs": [],
   "source": [
    "from sklearn.model_selection import train_test_split\n",
    "from sklearn.ensemble import RandomForestClassifier\n",
    "from sklearn.metrics import accuracy_score, roc_auc_score\n",
    "from sklearn.feature_selection import VarianceThreshold\n",
    "from sklearn.preprocessing import StandardScaler\n"
   ]
  },
  {
   "cell_type": "code",
   "execution_count": 7,
   "metadata": {},
   "outputs": [],
   "source": [
    "data = pd.read_csv('dermatology_csv.csv')\n",
    "data.head()\n",
    "\n",
    "X = data.iloc[:,0:34]\n",
    "\n",
    "y = data.iloc[:,-1]\n",
    "\n",
    "from sklearn.impute import SimpleImputer\n",
    "imputer = SimpleImputer(missing_values=np.nan,strategy ='mean')\n",
    "imputer = imputer.fit(X)\n",
    "X = imputer.transform(X)\n",
    "\n",
    "X_train, X_test, y_train, y_test = train_test_split(X, y, test_size = 0.3, random_state = 0, stratify = y)"
   ]
  },
  {
   "cell_type": "code",
   "execution_count": 8,
   "metadata": {},
   "outputs": [],
   "source": [
    "constant_filter = VarianceThreshold(threshold=0.01)\n",
    "constant_filter.fit(X_train)\n",
    "X_train_filter = constant_filter.transform(X_train)\n",
    "X_test_filter = constant_filter.transform(X_test)"
   ]
  },
  {
   "cell_type": "code",
   "execution_count": 9,
   "metadata": {},
   "outputs": [
    {
     "data": {
      "text/plain": [
       "((256, 34), (110, 34))"
      ]
     },
     "execution_count": 9,
     "metadata": {},
     "output_type": "execute_result"
    }
   ],
   "source": [
    "X_train_filter.shape, X_test_filter.shape"
   ]
  },
  {
   "cell_type": "code",
   "execution_count": 10,
   "metadata": {},
   "outputs": [],
   "source": [
    "X_train_T = X_train_filter.T\n",
    "X_test_T = X_test_filter.T"
   ]
  },
  {
   "cell_type": "code",
   "execution_count": 11,
   "metadata": {},
   "outputs": [],
   "source": [
    "X_train_T = pd.DataFrame(X_train_T)\n",
    "X_test_T = pd.DataFrame(X_test_T)"
   ]
  },
  {
   "cell_type": "code",
   "execution_count": 12,
   "metadata": {},
   "outputs": [
    {
     "data": {
      "text/plain": [
       "0"
      ]
     },
     "execution_count": 12,
     "metadata": {},
     "output_type": "execute_result"
    }
   ],
   "source": [
    "X_train_T.duplicated().sum()"
   ]
  },
  {
   "cell_type": "code",
   "execution_count": 13,
   "metadata": {},
   "outputs": [],
   "source": [
    "duplicated_features = X_train_T.duplicated()"
   ]
  },
  {
   "cell_type": "code",
   "execution_count": 14,
   "metadata": {},
   "outputs": [],
   "source": [
    "features_to_keep = [not index for index in duplicated_features]\n",
    "\n",
    "X_train_unique = X_train_T[features_to_keep].T\n",
    "X_test_unique = X_test_T[features_to_keep].T"
   ]
  },
  {
   "cell_type": "code",
   "execution_count": 15,
   "metadata": {},
   "outputs": [],
   "source": [
    "scaler = StandardScaler().fit(X_train_unique)\n",
    "X_train_unique = scaler.transform(X_train_unique)\n",
    "X_test_unique = scaler.transform(X_test_unique)"
   ]
  },
  {
   "cell_type": "code",
   "execution_count": 16,
   "metadata": {},
   "outputs": [
    {
     "data": {
      "text/plain": [
       "((256, 34), (110, 34))"
      ]
     },
     "execution_count": 16,
     "metadata": {},
     "output_type": "execute_result"
    }
   ],
   "source": [
    "X_train_unique = pd.DataFrame(X_train_unique)\n",
    "X_test_unique = pd.DataFrame(X_test_unique)\n",
    "\n",
    "X_train_unique.shape, X_test_unique.shape\n"
   ]
  },
  {
   "cell_type": "code",
   "execution_count": 17,
   "metadata": {},
   "outputs": [],
   "source": [
    "corrmat = X_train_unique.corr()"
   ]
  },
  {
   "cell_type": "code",
   "execution_count": 18,
   "metadata": {},
   "outputs": [
    {
     "name": "stdout",
     "output_type": "stream",
     "text": [
      "correlated features:  11\n"
     ]
    }
   ],
   "source": [
    "def get_correlation(data, threshold):\n",
    "    corr_col = set()\n",
    "    corrmat = data.corr()\n",
    "    for i in range(len(corrmat.columns)):\n",
    "        for j in range(i):\n",
    "            if abs(corrmat.iloc[i, j]) > threshold:\n",
    "                colname = corrmat.columns[i]\n",
    "                corr_col.add(colname)\n",
    "    return corr_col\n",
    "\n",
    "corr_features = get_correlation(X_train_unique, 0.70)\n",
    "print('correlated features: ', len(set(corr_features)) )"
   ]
  },
  {
   "cell_type": "code",
   "execution_count": 19,
   "metadata": {},
   "outputs": [
    {
     "data": {
      "text/plain": [
       "((256, 23), (110, 23))"
      ]
     },
     "execution_count": 19,
     "metadata": {},
     "output_type": "execute_result"
    }
   ],
   "source": [
    "X_train_uncorr = X_train_unique.drop(labels=corr_features, axis = 1)\n",
    "X_test_uncorr = X_test_unique.drop(labels = corr_features, axis = 1)\n",
    "\n",
    "X_train_uncorr.shape, X_test_uncorr.shape"
   ]
  },
  {
   "cell_type": "code",
   "execution_count": 20,
   "metadata": {},
   "outputs": [
    {
     "data": {
      "text/plain": [
       "((256, 2), (110, 2))"
      ]
     },
     "execution_count": 20,
     "metadata": {},
     "output_type": "execute_result"
    }
   ],
   "source": [
    "from sklearn.decomposition import PCA\n",
    "\n",
    "\n",
    "pca = PCA(n_components=2, random_state=42)\n",
    "pca.fit(X_train_uncorr)\n",
    "\n",
    "X_train_pca = pca.transform(X_train_uncorr)\n",
    "X_test_pca = pca.transform(X_test_uncorr)\n",
    "X_train_pca.shape, X_test_pca.shape"
   ]
  },
  {
   "cell_type": "code",
   "execution_count": 21,
   "metadata": {},
   "outputs": [],
   "source": [
    "def run_randomForest(X_train, X_test, y_train, y_test):\n",
    "    clf = RandomForestClassifier(n_estimators=100, random_state=0, n_jobs=-1)\n",
    "    clf.fit(X_train, y_train)\n",
    "    y_pred = clf.predict(X_test)\n",
    "    print('Accuracy on test set: ')\n",
    "    print(accuracy_score(y_test, y_pred))"
   ]
  },
  {
   "cell_type": "code",
   "execution_count": 22,
   "metadata": {},
   "outputs": [
    {
     "name": "stdout",
     "output_type": "stream",
     "text": [
      "Accuracy on test set: \n",
      "0.7272727272727273\n",
      "CPU times: user 811 ms, sys: 212 ms, total: 1.02 s\n",
      "Wall time: 857 ms\n"
     ]
    }
   ],
   "source": [
    "%%time\n",
    "run_randomForest(X_train_pca, X_test_pca, y_train, y_test)"
   ]
  },
  {
   "cell_type": "code",
   "execution_count": 23,
   "metadata": {},
   "outputs": [
    {
     "name": "stdout",
     "output_type": "stream",
     "text": [
      "Accuracy on test set: \n",
      "0.9545454545454546\n",
      "CPU times: user 192 ms, sys: 23 ms, total: 215 ms\n",
      "Wall time: 248 ms\n"
     ]
    }
   ],
   "source": [
    "%%time\n",
    "run_randomForest(X_train, X_test, y_train, y_test)"
   ]
  },
  {
   "cell_type": "code",
   "execution_count": 24,
   "metadata": {},
   "outputs": [
    {
     "data": {
      "text/plain": [
       "(256, 23)"
      ]
     },
     "execution_count": 24,
     "metadata": {},
     "output_type": "execute_result"
    }
   ],
   "source": [
    "X_train_uncorr.shape"
   ]
  },
  {
   "cell_type": "code",
   "execution_count": 25,
   "metadata": {},
   "outputs": [
    {
     "name": "stdout",
     "output_type": "stream",
     "text": [
      "[0.27352422]\n",
      "Selected Components:  1\n",
      "Accuracy on test set: \n",
      "0.7181818181818181\n",
      "\n",
      "[0.27352422 0.16227539]\n",
      "Selected Components:  2\n",
      "Accuracy on test set: \n",
      "0.7909090909090909\n",
      "\n",
      "[0.27352422 0.16227539 0.09410222]\n",
      "Selected Components:  3\n",
      "Accuracy on test set: \n",
      "0.8727272727272727\n",
      "\n",
      "[0.27352422 0.16227539 0.09410222 0.06773499]\n",
      "Selected Components:  4\n",
      "Accuracy on test set: \n",
      "0.8909090909090909\n",
      "\n",
      "[0.27352422 0.16227539 0.09410222 0.06773499 0.04014264]\n",
      "Selected Components:  5\n",
      "Accuracy on test set: \n",
      "0.9090909090909091\n",
      "\n",
      "[0.27352422 0.16227539 0.09410222 0.06773499 0.04014264 0.03652459]\n",
      "Selected Components:  6\n",
      "Accuracy on test set: \n",
      "0.9454545454545454\n",
      "\n",
      "[0.27352422 0.16227539 0.09410222 0.06773499 0.04014264 0.03652459\n",
      " 0.03079273]\n",
      "Selected Components:  7\n",
      "Accuracy on test set: \n",
      "0.9363636363636364\n",
      "\n",
      "[0.27352422 0.16227539 0.09410222 0.06773499 0.04014264 0.03652459\n",
      " 0.03079273 0.02773674]\n",
      "Selected Components:  8\n",
      "Accuracy on test set: \n",
      "0.9363636363636364\n",
      "\n",
      "[0.27352422 0.16227539 0.09410222 0.06773499 0.04014264 0.03652459\n",
      " 0.03079273 0.02773674 0.02581761]\n",
      "Selected Components:  9\n",
      "Accuracy on test set: \n",
      "0.9545454545454546\n",
      "\n",
      "[0.27352422 0.16227539 0.09410222 0.06773499 0.04014264 0.03652459\n",
      " 0.03079273 0.02773674 0.02581761 0.02418788]\n",
      "Selected Components:  10\n",
      "Accuracy on test set: \n",
      "0.9454545454545454\n",
      "\n",
      "[0.27352422 0.16227539 0.09410222 0.06773499 0.04014264 0.03652459\n",
      " 0.03079273 0.02773674 0.02581761 0.02418788 0.02188771]\n",
      "Selected Components:  11\n",
      "Accuracy on test set: \n",
      "0.9454545454545454\n",
      "\n",
      "[0.27352422 0.16227539 0.09410222 0.06773499 0.04014264 0.03652459\n",
      " 0.03079273 0.02773674 0.02581761 0.02418788 0.02188771 0.02082766]\n",
      "Selected Components:  12\n",
      "Accuracy on test set: \n",
      "0.9545454545454546\n",
      "\n",
      "[0.27352422 0.16227539 0.09410222 0.06773499 0.04014264 0.03652459\n",
      " 0.03079273 0.02773674 0.02581761 0.02418788 0.02188771 0.02082766\n",
      " 0.01981839]\n",
      "Selected Components:  13\n",
      "Accuracy on test set: \n",
      "0.9454545454545454\n",
      "\n",
      "[0.27352422 0.16227539 0.09410222 0.06773499 0.04014264 0.03652459\n",
      " 0.03079273 0.02773674 0.02581761 0.02418788 0.02188771 0.02082766\n",
      " 0.01981839 0.01883333]\n",
      "Selected Components:  14\n",
      "Accuracy on test set: \n",
      "0.9181818181818182\n",
      "\n",
      "[0.27352422 0.16227539 0.09410222 0.06773499 0.04014264 0.03652459\n",
      " 0.03079273 0.02773674 0.02581761 0.02418788 0.02188771 0.02082766\n",
      " 0.01981839 0.01883333 0.0167072 ]\n",
      "Selected Components:  15\n",
      "Accuracy on test set: \n",
      "0.9181818181818182\n",
      "\n",
      "[0.27352422 0.16227539 0.09410222 0.06773499 0.04014264 0.03652459\n",
      " 0.03079273 0.02773674 0.02581761 0.02418788 0.02188771 0.02082766\n",
      " 0.01981839 0.01883333 0.0167072  0.01665368]\n",
      "Selected Components:  16\n",
      "Accuracy on test set: \n",
      "0.9363636363636364\n",
      "\n",
      "[0.27352422 0.16227539 0.09410222 0.06773499 0.04014264 0.03652459\n",
      " 0.03079273 0.02773674 0.02581761 0.02418788 0.02188771 0.02082766\n",
      " 0.01981839 0.01883333 0.0167072  0.01665368 0.0143727 ]\n",
      "Selected Components:  17\n",
      "Accuracy on test set: \n",
      "0.9454545454545454\n",
      "\n",
      "[0.27352422 0.16227539 0.09410222 0.06773499 0.04014264 0.03652459\n",
      " 0.03079273 0.02773674 0.02581761 0.02418788 0.02188771 0.02082766\n",
      " 0.01981839 0.01883333 0.0167072  0.01665368 0.0143727  0.01214828]\n",
      "Selected Components:  18\n",
      "Accuracy on test set: \n",
      "0.9727272727272728\n",
      "\n",
      "[0.27352422 0.16227539 0.09410222 0.06773499 0.04014264 0.03652459\n",
      " 0.03079273 0.02773674 0.02581761 0.02418788 0.02188771 0.02082766\n",
      " 0.01981839 0.01883333 0.0167072  0.01665368 0.0143727  0.01214828\n",
      " 0.01119484]\n",
      "Selected Components:  19\n",
      "Accuracy on test set: \n",
      "0.9454545454545454\n",
      "\n",
      "[0.27352422 0.16227539 0.09410222 0.06773499 0.04014264 0.03652459\n",
      " 0.03079273 0.02773674 0.02581761 0.02418788 0.02188771 0.02082766\n",
      " 0.01981839 0.01883333 0.0167072  0.01665368 0.0143727  0.01214828\n",
      " 0.01119484 0.00991792]\n",
      "Selected Components:  20\n",
      "Accuracy on test set: \n",
      "0.9272727272727272\n",
      "\n",
      "[0.27352422 0.16227539 0.09410222 0.06773499 0.04014264 0.03652459\n",
      " 0.03079273 0.02773674 0.02581761 0.02418788 0.02188771 0.02082766\n",
      " 0.01981839 0.01883333 0.0167072  0.01665368 0.0143727  0.01214828\n",
      " 0.01119484 0.00991792 0.00826598]\n",
      "Selected Components:  21\n",
      "Accuracy on test set: \n",
      "0.9363636363636364\n",
      "\n",
      "[0.27352422 0.16227539 0.09410222 0.06773499 0.04014264 0.03652459\n",
      " 0.03079273 0.02773674 0.02581761 0.02418788 0.02188771 0.02082766\n",
      " 0.01981839 0.01883333 0.0167072  0.01665368 0.0143727  0.01214828\n",
      " 0.01119484 0.00991792 0.00826598 0.00762192]\n",
      "Selected Components:  22\n",
      "Accuracy on test set: \n",
      "0.9454545454545454\n",
      "\n",
      "[0.27352422 0.16227539 0.09410222 0.06773499 0.04014264 0.03652459\n",
      " 0.03079273 0.02773674 0.02581761 0.02418788 0.02188771 0.02082766\n",
      " 0.01981839 0.01883333 0.0167072  0.01665368 0.0143727  0.01214828\n",
      " 0.01119484 0.00991792 0.00826598 0.00762192 0.00671697]\n",
      "Selected Components:  23\n",
      "Accuracy on test set: \n",
      "0.9636363636363636\n",
      "\n",
      "[0.27352422 0.16227539 0.09410222 0.06773499 0.04014264 0.03652459\n",
      " 0.03079273 0.02773674 0.02581761 0.02418788 0.02188771 0.02082766\n",
      " 0.01981839 0.01883333 0.0167072  0.01665368 0.0143727  0.01214828\n",
      " 0.01119484 0.00991792 0.00826598 0.00762192 0.00671697 0.00626792]\n",
      "Selected Components:  24\n",
      "Accuracy on test set: \n",
      "0.9545454545454546\n",
      "\n",
      "[0.27352422 0.16227539 0.09410222 0.06773499 0.04014264 0.03652459\n",
      " 0.03079273 0.02773674 0.02581761 0.02418788 0.02188771 0.02082766\n",
      " 0.01981839 0.01883333 0.0167072  0.01665368 0.0143727  0.01214828\n",
      " 0.01119484 0.00991792 0.00826598 0.00762192 0.00671697 0.00626792\n",
      " 0.00394517]\n",
      "Selected Components:  25\n",
      "Accuracy on test set: \n",
      "0.9636363636363636\n",
      "\n",
      "[0.27352422 0.16227539 0.09410222 0.06773499 0.04014264 0.03652459\n",
      " 0.03079273 0.02773674 0.02581761 0.02418788 0.02188771 0.02082766\n",
      " 0.01981839 0.01883333 0.0167072  0.01665368 0.0143727  0.01214828\n",
      " 0.01119484 0.00991792 0.00826598 0.00762192 0.00671697 0.00626792\n",
      " 0.00394517 0.00388798]\n",
      "Selected Components:  26\n",
      "Accuracy on test set: \n",
      "0.9545454545454546\n",
      "\n",
      "[0.27352422 0.16227539 0.09410222 0.06773499 0.04014264 0.03652459\n",
      " 0.03079273 0.02773674 0.02581761 0.02418788 0.02188771 0.02082766\n",
      " 0.01981839 0.01883333 0.0167072  0.01665368 0.0143727  0.01214828\n",
      " 0.01119484 0.00991792 0.00826598 0.00762192 0.00671697 0.00626792\n",
      " 0.00394517 0.00388798 0.00318912]\n",
      "Selected Components:  27\n",
      "Accuracy on test set: \n",
      "0.9545454545454546\n",
      "\n",
      "[0.27352422 0.16227539 0.09410222 0.06773499 0.04014264 0.03652459\n",
      " 0.03079273 0.02773674 0.02581761 0.02418788 0.02188771 0.02082766\n",
      " 0.01981839 0.01883333 0.0167072  0.01665368 0.0143727  0.01214828\n",
      " 0.01119484 0.00991792 0.00826598 0.00762192 0.00671697 0.00626792\n",
      " 0.00394517 0.00388798 0.00318912 0.00287248]\n",
      "Selected Components:  28\n",
      "Accuracy on test set: \n",
      "0.9545454545454546\n",
      "\n",
      "[0.27352422 0.16227539 0.09410222 0.06773499 0.04014264 0.03652459\n",
      " 0.03079273 0.02773674 0.02581761 0.02418788 0.02188771 0.02082766\n",
      " 0.01981839 0.01883333 0.0167072  0.01665368 0.0143727  0.01214828\n",
      " 0.01119484 0.00991792 0.00826598 0.00762192 0.00671697 0.00626792\n",
      " 0.00394517 0.00388798 0.00318912 0.00287248 0.00275332]\n",
      "Selected Components:  29\n",
      "Accuracy on test set: \n",
      "0.9454545454545454\n",
      "\n",
      "[0.27352422 0.16227539 0.09410222 0.06773499 0.04014264 0.03652459\n",
      " 0.03079273 0.02773674 0.02581761 0.02418788 0.02188771 0.02082766\n",
      " 0.01981839 0.01883333 0.0167072  0.01665368 0.0143727  0.01214828\n",
      " 0.01119484 0.00991792 0.00826598 0.00762192 0.00671697 0.00626792\n",
      " 0.00394517 0.00388798 0.00318912 0.00287248 0.00275332 0.00250633]\n",
      "Selected Components:  30\n",
      "Accuracy on test set: \n",
      "0.9272727272727272\n",
      "\n",
      "[0.27352422 0.16227539 0.09410222 0.06773499 0.04014264 0.03652459\n",
      " 0.03079273 0.02773674 0.02581761 0.02418788 0.02188771 0.02082766\n",
      " 0.01981839 0.01883333 0.0167072  0.01665368 0.0143727  0.01214828\n",
      " 0.01119484 0.00991792 0.00826598 0.00762192 0.00671697 0.00626792\n",
      " 0.00394517 0.00388798 0.00318912 0.00287248 0.00275332 0.00250633\n",
      " 0.0023011 ]\n",
      "Selected Components:  31\n",
      "Accuracy on test set: \n",
      "0.9545454545454546\n",
      "\n",
      "[0.27352422 0.16227539 0.09410222 0.06773499 0.04014264 0.03652459\n",
      " 0.03079273 0.02773674 0.02581761 0.02418788 0.02188771 0.02082766\n",
      " 0.01981839 0.01883333 0.0167072  0.01665368 0.0143727  0.01214828\n",
      " 0.01119484 0.00991792 0.00826598 0.00762192 0.00671697 0.00626792\n",
      " 0.00394517 0.00388798 0.00318912 0.00287248 0.00275332 0.00250633\n",
      " 0.0023011  0.00178702]\n",
      "Selected Components:  32\n",
      "Accuracy on test set: \n",
      "0.9454545454545454\n",
      "\n",
      "[0.27352422 0.16227539 0.09410222 0.06773499 0.04014264 0.03652459\n",
      " 0.03079273 0.02773674 0.02581761 0.02418788 0.02188771 0.02082766\n",
      " 0.01981839 0.01883333 0.0167072  0.01665368 0.0143727  0.01214828\n",
      " 0.01119484 0.00991792 0.00826598 0.00762192 0.00671697 0.00626792\n",
      " 0.00394517 0.00388798 0.00318912 0.00287248 0.00275332 0.00250633\n",
      " 0.0023011  0.00178702 0.00149365]\n",
      "Selected Components:  33\n"
     ]
    },
    {
     "name": "stdout",
     "output_type": "stream",
     "text": [
      "Accuracy on test set: \n",
      "0.9454545454545454\n",
      "\n"
     ]
    }
   ],
   "source": [
    "for component in range(1,34):\n",
    "    pca = PCA(n_components=component, random_state=42)\n",
    "    pca.fit(X_train_unique)\n",
    "    X_train_pca = pca.transform(X_train_unique)\n",
    "    X_test_pca = pca.transform(X_test_unique)\n",
    "    print(pca.explained_variance_ratio_)\n",
    "    print('Selected Components: ', component)\n",
    "    run_randomForest(X_train_pca, X_test_pca, y_train, y_test)\n",
    "    print()\n"
   ]
  },
  {
   "cell_type": "code",
   "execution_count": null,
   "metadata": {},
   "outputs": [],
   "source": []
  }
 ],
 "metadata": {
  "kernelspec": {
   "display_name": "Python 3",
   "language": "python",
   "name": "python3"
  },
  "language_info": {
   "codemirror_mode": {
    "name": "ipython",
    "version": 3
   },
   "file_extension": ".py",
   "mimetype": "text/x-python",
   "name": "python",
   "nbconvert_exporter": "python",
   "pygments_lexer": "ipython3",
   "version": "3.7.4"
  }
 },
 "nbformat": 4,
 "nbformat_minor": 2
}
